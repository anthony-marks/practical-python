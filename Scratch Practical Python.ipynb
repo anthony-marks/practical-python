{
 "cells": [
  {
   "cell_type": "code",
   "execution_count": 1,
   "id": "df7eebf4",
   "metadata": {},
   "outputs": [],
   "source": [
    "symbols = 'HPQ,AAPL,IBM,MSFT,YHOO,DOA,GOOG'\n",
    "symlist = symbols.split(',')"
   ]
  },
  {
   "cell_type": "code",
   "execution_count": 8,
   "id": "b6d6390e",
   "metadata": {},
   "outputs": [
    {
     "name": "stdout",
     "output_type": "stream",
     "text": [
      "['HPQ', 'AAPL', 'AIG', 'MSFT', 'YHOO', 'DOA', 'GOOG']\n"
     ]
    }
   ],
   "source": [
    "print(symlist)"
   ]
  }
 ],
 "metadata": {
  "kernelspec": {
   "display_name": "Python 3",
   "language": "python",
   "name": "python3"
  },
  "language_info": {
   "codemirror_mode": {
    "name": "ipython",
    "version": 3
   },
   "file_extension": ".py",
   "mimetype": "text/x-python",
   "name": "python",
   "nbconvert_exporter": "python",
   "pygments_lexer": "ipython3",
   "version": "3.9.5"
  }
 },
 "nbformat": 4,
 "nbformat_minor": 5
}
